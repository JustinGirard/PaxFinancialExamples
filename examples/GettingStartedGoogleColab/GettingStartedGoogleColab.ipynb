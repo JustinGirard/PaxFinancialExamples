{
 "cells": [
  {
   "cell_type": "markdown",
   "metadata": {
    "colab_type": "text",
    "id": "t499_iWKurpR"
   },
   "source": [
    "# Instantly Getting Started on Google Colab\n",
    "[This notebook](https://colab.research.google.com/drive/1F6X41Nq97A6HsBZIR1T_0u0TNQvZQAcf) is intended as a one page sharable introduction to the PaxFinancial SDK. [It](https://colab.research.google.com/drive/1F6X41Nq97A6HsBZIR1T_0u0TNQvZQAcf) will get you started, with some data, so you can begin to consider more advanced examples. [This specific example](https://colab.research.google.com/drive/1F6X41Nq97A6HsBZIR1T_0u0TNQvZQAcf) is meant to be run on google collabratory and may not be suited for a local installation. To install on a general system see [paxfinancial.ai](http://paxfinancial.ai/) . To view this directly on google colab, please visit [The Colab Notebook](https://colab.research.google.com/drive/1F6X41Nq97A6HsBZIR1T_0u0TNQvZQAcf).\n",
    "### 1. Link your Google Drive\n",
    "First, we will need to clone the Pax Financial Examples repo locally, so we can use it to display some data."
   ]
  },
  {
   "cell_type": "code",
   "execution_count": null,
   "metadata": {
    "colab": {
     "base_uri": "https://localhost:8080/",
     "height": 34
    },
    "colab_type": "code",
    "id": "F3DLHIV6ujMH",
    "outputId": "598a6558-e0eb-4d4f-fb1e-588b422d8500"
   },
   "outputs": [],
   "source": [
    "from google.colab import drive\n",
    "drive.mount(\"/content/gdrive\")"
   ]
  },
  {
   "cell_type": "markdown",
   "metadata": {
    "colab_type": "text",
    "id": "jZkh4m_fv_eO"
   },
   "source": [
    "### 2. Download the Pax Financial Examples repository\n",
    "Second, we will pull the latest examples repository, which includes a deployment of the paxdk. "
   ]
  },
  {
   "cell_type": "code",
   "execution_count": 2,
   "metadata": {
    "colab": {
     "base_uri": "https://localhost:8080/",
     "height": 34
    },
    "colab_type": "code",
    "id": "rZT3dQhgwXGB",
    "outputId": "8756e562-80c3-4449-9e87-1fbf6aabcab4"
   },
   "outputs": [
    {
     "name": "stdout",
     "output_type": "stream",
     "text": [
      "mkdir: cannot create directory ‘gdrive/My Drive/pax_financial_example/’: File exists\n"
     ]
    }
   ],
   "source": [
    "! mkdir \"gdrive/My Drive/pax_financial_example/\""
   ]
  },
  {
   "cell_type": "code",
   "execution_count": 3,
   "metadata": {
    "colab": {
     "base_uri": "https://localhost:8080/",
     "height": 34
    },
    "colab_type": "code",
    "id": "pYkDXyriwZlf",
    "outputId": "71f13de9-ef26-42e5-f4dd-89a8703a2fc7"
   },
   "outputs": [
    {
     "name": "stdout",
     "output_type": "stream",
     "text": [
      "/content/gdrive/My Drive/pax_financial_example\n"
     ]
    }
   ],
   "source": [
    "%cd \"gdrive/My Drive/pax_financial_example/\""
   ]
  },
  {
   "cell_type": "code",
   "execution_count": 11,
   "metadata": {
    "colab": {
     "base_uri": "https://localhost:8080/",
     "height": 134
    },
    "colab_type": "code",
    "id": "bRCgAZ64wLlT",
    "outputId": "974733cf-1b5b-4ec3-bd12-5bf30bccba9c"
   },
   "outputs": [
    {
     "name": "stdout",
     "output_type": "stream",
     "text": [
      "Cloning into 'PaxFinancialExamples'...\n",
      "remote: Enumerating objects: 250, done.\u001b[K\n",
      "remote: Counting objects: 100% (250/250), done.\u001b[K\n",
      "remote: Compressing objects: 100% (133/133), done.\u001b[K\n",
      "remote: Total 250 (delta 86), reused 242 (delta 78), pack-reused 0\u001b[K\n",
      "Receiving objects: 100% (250/250), 1.44 MiB | 3.22 MiB/s, done.\n",
      "Resolving deltas: 100% (86/86), done.\n"
     ]
    }
   ],
   "source": [
    "! git clone https://github.com/JustinGirard/PaxFinancialExamples.git"
   ]
  },
  {
   "cell_type": "code",
   "execution_count": 4,
   "metadata": {
    "colab": {
     "base_uri": "https://localhost:8080/",
     "height": 34
    },
    "colab_type": "code",
    "id": "eEavqMStwd0W",
    "outputId": "c0a98153-7e74-4d98-c4e8-cd52032aa477"
   },
   "outputs": [
    {
     "name": "stdout",
     "output_type": "stream",
     "text": [
      "docs  examples\tpaxdk  README.md  setup.py  tests\n"
     ]
    }
   ],
   "source": [
    "! ls \"PaxFinancialExamples\""
   ]
  },
  {
   "cell_type": "markdown",
   "metadata": {
    "colab_type": "text",
    "id": "EImF5yvVxJlf"
   },
   "source": [
    "### 3. Pull Some Example Data \n",
    "Using the supplied api key, you can now pull some data. In this example we will look at minute level data from AAPL and compare it with BTCUSDT in the last few days."
   ]
  },
  {
   "cell_type": "markdown",
   "metadata": {
    "colab_type": "text",
    "id": "rbc4ztUyzedp"
   },
   "source": [
    "#### 3.1.1 Import the paxdk library"
   ]
  },
  {
   "cell_type": "code",
   "execution_count": 5,
   "metadata": {
    "colab": {
     "base_uri": "https://localhost:8080/",
     "height": 34
    },
    "colab_type": "code",
    "id": "xcznK0Oqxp3Y",
    "outputId": "0776b51f-8369-473e-8d7b-6b276b056d2d"
   },
   "outputs": [
    {
     "name": "stdout",
     "output_type": "stream",
     "text": [
      "PaxFinancialAPI v4 loaded!\n"
     ]
    }
   ],
   "source": [
    "import sys\n",
    "sys.path.append(\"/content/gdrive/My Drive/pax_financial_example/PaxFinancialExamples/paxdk/\")\n",
    "import paxdk"
   ]
  },
  {
   "cell_type": "code",
   "execution_count": 6,
   "metadata": {
    "colab": {},
    "colab_type": "code",
    "id": "WmUU2S71yjDQ"
   },
   "outputs": [],
   "source": [
    "api_key = 'PUT_IN_YOUR_API_KEY'\n",
    "pq = paxdk.PaxFinancialAPI(url_version='dev',api_key=api_key)"
   ]
  },
  {
   "cell_type": "markdown",
   "metadata": {
    "colab_type": "text",
    "id": "O_bRIdMTxwpS"
   },
   "source": [
    "#### 3.1.2 Display financial data"
   ]
  },
  {
   "cell_type": "code",
   "execution_count": 7,
   "metadata": {
    "colab": {
     "base_uri": "https://localhost:8080/",
     "height": 136
    },
    "colab_type": "code",
    "id": "iRgRJl-czo7y",
    "outputId": "b14b55e6-2872-400a-d0fc-577ca8582cb2"
   },
   "outputs": [
    {
     "data": {
      "text/html": [
       "<div>\n",
       "<style scoped>\n",
       "    .dataframe tbody tr th:only-of-type {\n",
       "        vertical-align: middle;\n",
       "    }\n",
       "\n",
       "    .dataframe tbody tr th {\n",
       "        vertical-align: top;\n",
       "    }\n",
       "\n",
       "    .dataframe thead th {\n",
       "        text-align: right;\n",
       "    }\n",
       "</style>\n",
       "<table border=\"1\" class=\"dataframe\">\n",
       "  <thead>\n",
       "    <tr style=\"text-align: right;\">\n",
       "      <th></th>\n",
       "      <th>DateTime</th>\n",
       "      <th>Ticker</th>\n",
       "      <th>OpenPrice</th>\n",
       "      <th>ClosePrice</th>\n",
       "      <th>HighPrice</th>\n",
       "      <th>LowPrice</th>\n",
       "    </tr>\n",
       "  </thead>\n",
       "  <tbody>\n",
       "    <tr>\n",
       "      <th>0</th>\n",
       "      <td>2020-04-01 10:00:00</td>\n",
       "      <td>BTCUSDT</td>\n",
       "      <td>6298.74</td>\n",
       "      <td>6295.03</td>\n",
       "      <td>6318.89</td>\n",
       "      <td>6288.02</td>\n",
       "    </tr>\n",
       "    <tr>\n",
       "      <th>1</th>\n",
       "      <td>2020-04-01 11:00:00</td>\n",
       "      <td>BTCUSDT</td>\n",
       "      <td>6295.03</td>\n",
       "      <td>6294.25</td>\n",
       "      <td>6301.76</td>\n",
       "      <td>6271.20</td>\n",
       "    </tr>\n",
       "    <tr>\n",
       "      <th>2</th>\n",
       "      <td>2020-04-01 12:00:00</td>\n",
       "      <td>BTCUSDT</td>\n",
       "      <td>6294.25</td>\n",
       "      <td>6217.51</td>\n",
       "      <td>6332.16</td>\n",
       "      <td>6215.66</td>\n",
       "    </tr>\n",
       "  </tbody>\n",
       "</table>\n",
       "</div>"
      ],
      "text/plain": [
       "             DateTime   Ticker  OpenPrice  ClosePrice  HighPrice  LowPrice\n",
       "0 2020-04-01 10:00:00  BTCUSDT    6298.74     6295.03    6318.89   6288.02\n",
       "1 2020-04-01 11:00:00  BTCUSDT    6295.03     6294.25    6301.76   6271.20\n",
       "2 2020-04-01 12:00:00  BTCUSDT    6294.25     6217.51    6332.16   6215.66"
      ]
     },
     "execution_count": 7,
     "metadata": {
      "tags": []
     },
     "output_type": "execute_result"
    }
   ],
   "source": [
    "import pandas as pd\n",
    "import datetime\n",
    "\n",
    "bars = pq.get_historical_hour({'api_key':api_key,\n",
    "                                'time_in':datetime.datetime(2020,4,1,10),\n",
    "                                'time_end':datetime.datetime(2020,4,1,12),\n",
    "                                'Ticker':'BTCUSDT',\n",
    "                                                             },remote=True)\n",
    "df=pd.DataFrame(bars)\n",
    "df[['DateTime','Ticker','OpenPrice','ClosePrice','HighPrice','LowPrice']]"
   ]
  }
 ],
 "metadata": {
  "colab": {
   "collapsed_sections": [],
   "name": "PaxFinancialExamplesColabWorkshop.ipynb",
   "provenance": []
  },
  "kernelspec": {
   "display_name": "Python 3",
   "language": "python",
   "name": "python3"
  },
  "language_info": {
   "codemirror_mode": {
    "name": "ipython",
    "version": 3
   },
   "file_extension": ".py",
   "mimetype": "text/x-python",
   "name": "python",
   "nbconvert_exporter": "python",
   "pygments_lexer": "ipython3",
   "version": "3.7.3"
  }
 },
 "nbformat": 4,
 "nbformat_minor": 4
}

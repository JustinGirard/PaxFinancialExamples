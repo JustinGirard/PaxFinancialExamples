{
 "cells": [
  {
   "cell_type": "markdown",
   "metadata": {},
   "source": [
    "# Getting Started"
   ]
  },
  {
   "cell_type": "markdown",
   "metadata": {},
   "source": [
    "This example will get you started with downloading and setting up the Pax Financial Examples package, show you how to sign up with Pax Financial and find your API key, and then guide you through a simple example in which we use the Pax Financial API to download some historical financial price data."
   ]
  },
  {
   "cell_type": "markdown",
   "metadata": {},
   "source": [
    "## Downloading and Setting Up the Pax Financial Examples Software Package\n",
    "\n",
    "1. Clone the git repository and execute the setup.py script.\n",
    "\n",
    "        clone https://github.com/JustinGirard/PaxFinancialExamples.git\n",
    "        cd PaxFinancialExamples\n",
    "        python3 setup.py\n",
    "        \n",
    "2. Add the `PaxFinancialExamples/paxdk` directory to your system's PYTHONPATH, by running from a terminal\n",
    "        \n",
    "        export PYTHONPATH = $PYTHONPATH:/<path>/PaxFinancialExamples/paxdk"
   ]
  },
  {
   "cell_type": "markdown",
   "metadata": {},
   "source": [
    "## Signing Up With Pax Financial\n",
    "\n",
    "1. In a web browser, navigate to <https://g46w1ege85.execute-api.us-west-2.amazonaws.com/alpha/dev/paxfinancial/console/get> . \n",
    "2. Sign in with Google or your e-mail, according to the instructions."
   ]
  },
  {
   "cell_type": "markdown",
   "metadata": {},
   "source": [
    "## Finding your API key\n",
    "\n",
    "Once you have signed up and signed in, you are ready to locate your API key.\n",
    "\n",
    "1. In the top left corner of the screen that appears when you sign in, there is a hamburger icon (three stacked horizontal lines). Click this icon. A panel should slide out from the left side of the screen. You will see your API key.\n",
    "\n",
    "2. Copy the API key. Open the file `PaxFinancialExamples/.config` with an editor and replace the API key in the file with your API key. \n",
    "\n",
    "Once you have your API key entered into the `.config` file, you are ready to execute the first example of using the Pax Financial API."
   ]
  },
  {
   "cell_type": "markdown",
   "metadata": {},
   "source": [
    "## A First Example: Reading Financial Data"
   ]
  },
  {
   "cell_type": "markdown",
   "metadata": {},
   "source": [
    "In our first example of the use of the Pax Financial API we will read some historical price data and display it. This example is a Jupyter Notebook (as are all the examples) which is located at `PaxFinancialExamples/examples/ReadingFinancialData.ipynb`. In the first code cell, replace the API key with your own API key. After that you can run the notebook by using the \"run\" button to execute the code cells in the order they appear."
   ]
  },
  {
   "cell_type": "markdown",
   "metadata": {},
   "source": [
    "We import the Pax Development Kit and instantiate the Pax Financial API:"
   ]
  },
  {
   "cell_type": "code",
   "execution_count": 4,
   "metadata": {},
   "outputs": [],
   "source": [
    "import paxdk\n",
    "\n",
    "import json\n",
    "with open(\"../.config\") as f:\n",
    "    data = json.load(f)\n",
    "api_key = data['api_key']\n",
    "    \n",
    "pq = paxdk.PaxFinancialAPI(url_version='dev',api_key=api_key)"
   ]
  },
  {
   "cell_type": "markdown",
   "metadata": {},
   "source": [
    "We use the Pax Financial API to read some historical hourly price data about the Bitcoin/US dollar exchange rate, and we display the hour bars we obtain. An hour bar corresponds to a one-hour period and contains the opening price, closing price, high price, and low price for that period."
   ]
  },
  {
   "cell_type": "code",
   "execution_count": null,
   "metadata": {},
   "outputs": [],
   "source": [
    "import pandas as pd\n",
    "import datetime\n",
    "\n",
    "bars = pq.get_historical_hour({'api_key':api_key,\n",
    "                                'time_in':datetime.datetime(2020,4,1,10),\n",
    "                                'time_end':datetime.datetime(2020,4,1,12),\n",
    "                                'Ticker':'BTCUSDT',\n",
    "                                                             },remote=True)\n",
    "df=pd.DataFrame(bars)\n",
    "df"
   ]
  },
  {
   "cell_type": "markdown",
   "metadata": {},
   "source": [
    "Executing the code cells should display a Pandas dataframe of the hour bars data."
   ]
  }
 ],
 "metadata": {
  "hide_input": false,
  "kernelspec": {
   "display_name": "Python 3",
   "language": "python",
   "name": "python3"
  },
  "language_info": {
   "codemirror_mode": {
    "name": "ipython",
    "version": 3
   },
   "file_extension": ".py",
   "mimetype": "text/x-python",
   "name": "python",
   "nbconvert_exporter": "python",
   "pygments_lexer": "ipython3",
   "version": "3.7.3"
  }
 },
 "nbformat": 4,
 "nbformat_minor": 2
}

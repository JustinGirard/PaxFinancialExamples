{
 "cells": [
  {
   "cell_type": "markdown",
   "metadata": {},
   "source": [
    "# Pax Financial Democratizes Algorithmic Finance    "
   ]
  },
  {
   "cell_type": "markdown",
   "metadata": {},
   "source": [
    "Our primary mission is the democratization of finance and financial tools. Today almost all students know how to program. Today, almost all capital market transactions are algorithmic. In the future, all people that know how to program, will also be able to manage capital with those skills, while avoiding market experts and management entities. This will happen because tools and education will democratize. Today the knowledge and tool gap is severe. We have crossed it with our platform. The current generation of students will craft rich financial experiences that also make money. Pax Financial has is the only public toolset that allows for this."
   ]
  },
  {
   "cell_type": "markdown",
   "metadata": {},
   "source": [
    "<img src=\"../../../PAXFINANCIAL_files/image3.png\">\n",
    "<img src=\"../../../PAXFINANCIAL_files/image1.png\">"
   ]
  },
  {
   "cell_type": "markdown",
   "metadata": {},
   "source": [
    "# For the Community, Pax Financial Provides an Open Source Financial API"
   ]
  },
  {
   "cell_type": "markdown",
   "metadata": {},
   "source": [
    "Behind the scenes, we have created what is called an Application Programming Interface. It means we make it really easy for programmers in both the financial industry and media to submit real-time orders and get data from **Interactive Brokers** and **Binance**. This means that regular front-end coders, and enthusiasts can engage with the capital markets in new and creative ways, by making apps and experiences. We provide an open source platform that ‘talks to’ our professional API."
   ]
  }
 ],
 "metadata": {
  "hide_input": false,
  "kernelspec": {
   "display_name": "Python 3",
   "language": "python",
   "name": "python3"
  },
  "language_info": {
   "codemirror_mode": {
    "name": "ipython",
    "version": 3
   },
   "file_extension": ".py",
   "mimetype": "text/x-python",
   "name": "python",
   "nbconvert_exporter": "python",
   "pygments_lexer": "ipython3",
   "version": "3.7.3"
  }
 },
 "nbformat": 4,
 "nbformat_minor": 2
}

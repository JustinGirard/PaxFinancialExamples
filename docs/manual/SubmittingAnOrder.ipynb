{
 "cells": [
  {
   "cell_type": "markdown",
   "metadata": {},
   "source": [
    "# Submitting an Order"
   ]
  },
  {
   "cell_type": "markdown",
   "metadata": {},
   "source": [
    "In this example we show how to use the Pax Financial API to submit a market order in a simulation. We will place money in our account, submit an order, have the API check that it is possible to fill the order and fill it if possible, and view the filled order and our account holdings.      "
   ]
  },
  {
   "cell_type": "markdown",
   "metadata": {},
   "source": [
    "## 1. Importing the PDK and Instantiating the API"
   ]
  },
  {
   "cell_type": "markdown",
   "metadata": {},
   "source": [
    "We begin by importing the Pax Development Kit and instantiating the Pax Financial API. Upon executing the following cell you should see as output `PaxFinancialAPI v4 loaded!` (or something similar)."
   ]
  },
  {
   "cell_type": "code",
   "execution_count": 1,
   "metadata": {},
   "outputs": [
    {
     "name": "stdout",
     "output_type": "stream",
     "text": [
      "PaxFinancialAPI v4 loaded!\n"
     ]
    }
   ],
   "source": [
    "import paxdk\n",
    "\n",
    "import json\n",
    "with open(\"../.config\") as f:\n",
    "    data = json.load(f)\n",
    "api_key = data['api_key'] \n",
    " \n",
    "pq = paxdk.PaxFinancialAPI(url_version='dev',api_key=api_key)"
   ]
  },
  {
   "cell_type": "markdown",
   "metadata": {},
   "source": [
    "## 2. Generating an Experiment ID"
   ]
  },
  {
   "cell_type": "markdown",
   "metadata": {},
   "source": [
    "Every experiment requires an experiment ID, so we generate a unique  but descriptive ID to use. "
   ]
  },
  {
   "cell_type": "code",
   "execution_count": 2,
   "metadata": {},
   "outputs": [
    {
     "name": "stdout",
     "output_type": "stream",
     "text": [
      "test_market_order-074407a0-af3a-11ea-86b8-d542a4680ef9\n"
     ]
    }
   ],
   "source": [
    "import uuid\n",
    "eid = 'test_market_order-'+str(uuid.uuid1())\n",
    "print(eid)"
   ]
  },
  {
   "cell_type": "markdown",
   "metadata": {},
   "source": [
    "## 3. Loading Funds Into Our Account"
   ]
  },
  {
   "cell_type": "markdown",
   "metadata": {},
   "source": [
    "We begin by putting some cash into the holdings associated with this experiment ID. We will load the account with USD10,000. \n",
    "The argument `'symbol'` specifies the ticker symbol for the security or currency in the transaction, which is 'USDT' for US dollars.  The `'quantity'` 10000 is the number of US dollars credited to our account in the transaction. The `'date'` is the simulation datetime at which the transaction occurs. We will have our transaction occurring at 9:00 am, April 1, 2020. "
   ]
  },
  {
   "cell_type": "code",
   "execution_count": 3,
   "metadata": {},
   "outputs": [
    {
     "name": "stdout",
     "output_type": "stream",
     "text": [
      "{'transaction_id': 't-6616e5fd-1ea3-482f-9231-c7a68164be42', 'quantity': '10000', 'symbol': 'USDT'}\n"
     ]
    }
   ],
   "source": [
    "## 1  Put some cash into this EID\n",
    "import datetime\n",
    "transdat = pq.submit_transaction({\n",
    "                                'experiment_id': eid,\n",
    "                                'symbol': 'USDT',\n",
    "                                'quantity': 10000,\n",
    "                                'value': 10000,\n",
    "                                'date':datetime.datetime(2020,4,1,9),\n",
    "                                'unit_price': 1.0,\n",
    "                                'account_currency': 'USDT',\n",
    "                                'type': 'algorithm',\n",
    "                                'note': \"Initial Cash Deposit\",\n",
    "                                #'do_not_update_holdings':True,\n",
    "                                'api_key':api_key},remote=True)\n",
    "print(transdat)\n",
    "assert 'transaction_id' in transdat.keys()\n",
    "assert 'quantity' in transdat.keys()\n",
    "assert 'symbol' in transdat.keys()\n"
   ]
  },
  {
   "cell_type": "markdown",
   "metadata": {},
   "source": [
    "The `pq.submit_transaction()` API call returns a dictionary containing a `transaction_id` and the quantity and symbol of the transaction."
   ]
  },
  {
   "cell_type": "markdown",
   "metadata": {},
   "source": [
    "## 4. Submitting an Order"
   ]
  },
  {
   "cell_type": "markdown",
   "metadata": {},
   "source": [
    "Now we will submit an order to buy BitCoin ('BTC').  The `from_symbol` is the currency our account is ('USDT' i.e. US dollars), the `to_symbol` is the security or currency we're buying. The `to_quantity` is the amount to buy. We will specify that we want to buy 0.1 BitCoin. We must specify the order type, which is either 'BUY' or 'SELL'.  In this case it is 'BUY'. The `purchase_date` is the simulation datetime (as opposed to the real datetime) at which the BUY order takes effect (i.e. you are requesting to buy after this time). We must also provide a `'limit_date'`, which is the simulation datetime at which the order will expire if it has not been filled. Here we choose a `'limit_date'` of 1 day after the order comes into effect.   "
   ]
  },
  {
   "cell_type": "code",
   "execution_count": 4,
   "metadata": {},
   "outputs": [
    {
     "name": "stdout",
     "output_type": "stream",
     "text": [
      "{'from_symbol': 'USDT', 'order_id':\n",
      "'ro-c831dace-8048-4006-8d8d-641dae20b8a0', 'to_symbol': 'BTC',\n",
      "'to_quantity': 0.1, 'experiment_id':\n",
      "'test_market_order-074407a0-af3a-11ea-86b8-d542a4680ef9', 'type':\n",
      "'BUY', 'purchase_date': datetime.datetime(2020, 4, 1, 10, 0),\n",
      "'submitted_date': datetime.datetime(2020, 4, 1, 10, 0), 'tag': 'test\n",
      "submit', 'limit_price_top': None, 'limit_price_bottom': None,\n",
      "'limit_date': datetime.datetime(2020, 4, 2, 10, 0), 'simulated_price':\n",
      "None, 'symbol_discovery': 'BINANCE', 'market_price': None,\n",
      "'market_status': 'pending', 'status': 'pending', 'avg_fill_price':\n",
      "None, 'market_avg_fill_price': None, 'transaction_fee': None,\n",
      "'transaction_ids': [], '_id': None}\n"
     ]
    }
   ],
   "source": [
    "from_symbol = 'USDT'\n",
    "to_symbol = 'BTC'\n",
    "to_quantity = 0.1\n",
    "order_type = 'BUY'\n",
    "purchase_date = datetime.datetime(2020,4,1,10)\n",
    "limit_date = purchase_date + datetime.timedelta(days=1)\n",
    "                \n",
    "dat = pq.submit_single_market_order({'from_symbol':from_symbol,\n",
    "                            'to_symbol': to_symbol,\n",
    "                            'to_quantity': to_quantity,\n",
    "                            'experiment_id':eid,\n",
    "                            'type': order_type,\n",
    "                            'purchase_date':purchase_date,\n",
    "                            'tag':\"test submit\",\n",
    "                            #'limit_value': None,\n",
    "                            'limit_date': limit_date,\n",
    "                            'symbol_discovery':'BINANCE',\n",
    "                            #'market_price':None,\n",
    "                            #'avg_fill_price':None,\n",
    "                            #'market_status':None,\n",
    "                            #'status':'simulated',\n",
    "                            #'transaction_fee':min([proceeds*0.005,0.01*proceeds])*2,\n",
    "                            #'transaction_ids':transaction_ids}\n",
    "                              })    \n",
    "import textwrap\n",
    "print(textwrap.fill(str(dat)))\n",
    "assert 'order_id' in dat.keys()\n",
    "assert 'experiment_id' in dat.keys()\n",
    "assert dat['experiment_id'] == eid\n",
    "assert 'status' in dat.keys()\n",
    "assert dat['status'] == 'pending'\n",
    "assert 'from_symbol' in dat.keys()\n",
    "assert 'to_symbol' in dat.keys()\n",
    "assert 'to_quantity' in dat.keys()"
   ]
  },
  {
   "cell_type": "markdown",
   "metadata": {},
   "source": [
    "The `pq.submit_single_order()` API call returns a dictionary with information about the order.  Note in particular the `'status'` field, which should have the value `'pending'`.  The initial status of an order upon submission is always `'pending'`. The order status will remain `'pending'` until we call `pq.manage_experiment()`, which is the task of the next code cell."
   ]
  },
  {
   "cell_type": "markdown",
   "metadata": {},
   "source": [
    "## 5. Filling the Order"
   ]
  },
  {
   "cell_type": "markdown",
   "metadata": {},
   "source": [
    "The `pq.manage_experiment()` API call checks the orders for the `'experiment_id'` to see if there are any `'pending'` orders that can be filled at the `'current_date'` (which is actually a datetime) specified. If there are, it will fill the orders, making the appropriate transfers of assets and currency to and from the account. We are calling `pq.manage_experiment()` with `'current_date'` equal to one hour after our order came into effect i.e. 11:00 am April 1, 2020. "
   ]
  },
  {
   "cell_type": "code",
   "execution_count": 5,
   "metadata": {},
   "outputs": [
    {
     "name": "stdout",
     "output_type": "stream",
     "text": [
      "True\n"
     ]
    }
   ],
   "source": [
    "dat = pq.manage_experiment({'api_key':api_key,\n",
    "                                    'current_date': datetime.datetime(2020,4,1,11),\n",
    "                                    'base_symbol':'USDT',\n",
    "                                    'symbol_discovery':'BINANCE',\n",
    "                                    'experiment_id':eid,},remote=True)\n",
    "print(dat)\n",
    "assert dat is True"
   ]
  },
  {
   "cell_type": "markdown",
   "metadata": {},
   "source": [
    "A successful call to `'pq.manage_experiment()'` will return with the value `True`. "
   ]
  },
  {
   "cell_type": "markdown",
   "metadata": {},
   "source": [
    "## 6. Checking If the Order Was Filled"
   ]
  },
  {
   "cell_type": "markdown",
   "metadata": {},
   "source": [
    "To see if the order was filled we call `pq.find_algorithm_single_orders()`: "
   ]
  },
  {
   "cell_type": "code",
   "execution_count": 6,
   "metadata": {},
   "outputs": [
    {
     "name": "stdout",
     "output_type": "stream",
     "text": [
      "[{'from_symbol': 'USDT', 'order_id':\n",
      "'ro-c831dace-8048-4006-8d8d-641dae20b8a0', 'to_symbol': 'BTC',\n",
      "'to_quantity': 0.1, 'experiment_id':\n",
      "'test_market_order-074407a0-af3a-11ea-86b8-d542a4680ef9', 'type':\n",
      "'BUY', 'purchase_date': datetime.datetime(2020, 4, 1, 10, 0),\n",
      "'submitted_date': datetime.datetime(2020, 4, 1, 10, 0), 'tag': 'test\n",
      "submit,Simulated Buy Fill', 'limit_price_top': None,\n",
      "'limit_price_bottom': None, 'limit_date': datetime.datetime(2020, 4,\n",
      "2, 10, 0), 'simulated_price': 6318.89, 'symbol_discovery': 'BINANCE',\n",
      "'market_price': None, 'market_status': 'pending', 'status': 'filled',\n",
      "'avg_fill_price': 6318.89, 'market_avg_fill_price': None,\n",
      "'transaction_fee': None, 'transaction_ids': [], 'account_id':\n",
      "'justingirard@justingirard.com'}]\n"
     ]
    }
   ],
   "source": [
    "q = {'experiment_id':eid}\n",
    "dat = pq.find_algorithm_single_orders(q,remote=True)\n",
    "print(textwrap.fill(str(dat)))\n",
    "assert 'order_id' in dat[0].keys()\n",
    "assert 'experiment_id' in dat[0].keys()\n",
    "assert dat[0]['experiment_id'] == eid\n",
    "assert 'status' in dat[0].keys()\n",
    "assert 'from_symbol' in dat[0].keys()\n",
    "assert 'to_symbol' in dat[0].keys()\n",
    "assert 'to_quantity' in dat[0].keys()"
   ]
  },
  {
   "cell_type": "markdown",
   "metadata": {},
   "source": [
    "`pq.find_algorithm_single_orders()` provides information about all orders submitted by the experiment. In this case there is only one order submitted so we obtain a one-element list. If the order has been filled the `'status'` will now be `'filled'` and the field `'avg_fill_price'` will state the price that was paid."
   ]
  },
  {
   "cell_type": "markdown",
   "metadata": {},
   "source": [
    "## 7. Viewing Our Account Holdings"
   ]
  },
  {
   "cell_type": "markdown",
   "metadata": {},
   "source": [
    "Next we will call `'pq.get_approx_holdings'` to see what our experiment's holdings are.  The holdings are \"approximate\" in the sense that they are calculated by updating holdings in real-time as opposed to from a transaction history. "
   ]
  },
  {
   "cell_type": "code",
   "execution_count": 7,
   "metadata": {},
   "outputs": [
    {
     "name": "stdout",
     "output_type": "stream",
     "text": [
      "{'USDT': 9367.47279211, 'BTC': 0.1}\n"
     ]
    }
   ],
   "source": [
    "dat = pq.get_approx_holdings({'api_key':api_key,'experiment_id':eid},remote=True)\n",
    "print(dat)\n",
    "assert 'USDT' in dat.keys()\n",
    "assert 'BTC' in dat.keys()"
   ]
  },
  {
   "cell_type": "markdown",
   "metadata": {},
   "source": [
    "In the dictionary returned from `pq.get_approx_holdings()` we can see the amounts of US dollars we hold, as well as the amount of BitCoin if the order placed above was successfully filled."
   ]
  },
  {
   "cell_type": "code",
   "execution_count": null,
   "metadata": {},
   "outputs": [],
   "source": []
  }
 ],
 "metadata": {
  "hide_input": false,
  "kernelspec": {
   "display_name": "Python 3",
   "language": "python",
   "name": "python3"
  },
  "language_info": {
   "codemirror_mode": {
    "name": "ipython",
    "version": 3
   },
   "file_extension": ".py",
   "mimetype": "text/x-python",
   "name": "python",
   "nbconvert_exporter": "python",
   "pygments_lexer": "ipython3",
   "version": "3.7.3"
  }
 },
 "nbformat": 4,
 "nbformat_minor": 2
}

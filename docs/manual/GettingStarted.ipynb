{
 "cells": [
  {
   "cell_type": "markdown",
   "metadata": {},
   "source": [
    "# Getting Started"
   ]
  },
  {
   "cell_type": "markdown",
   "metadata": {},
   "source": [
    "This example will get you started with downloading and setting up the Pax Financial Examples package, show you how to sign up with Pax Financial and find your API key, and then guide you through a simple example in which we use the Pax Financial API to download some historical financial price data.\n",
    "**This bold-face text is a test of the automated deployment system.**"
   ]
  },
  {
   "cell_type": "markdown",
   "metadata": {},
   "source": [
    "## Downloading and Setting Up the Pax Financial Examples Software Package\n",
    "\n",
    "1. Clone the git repository and execute the setup.py script.\n",
    "\n",
    "        clone https://github.com/JustinGirard/PaxFinancialExamples.git\n",
    "        cd PaxFinancialExamples\n",
    "        python3 setup.py\n",
    "        \n",
    "2. Add the `PaxFinancialExamples/paxdk` directory to your system's PYTHONPATH, by running from a terminal\n",
    "        \n",
    "        export PYTHONPATH = $PYTHONPATH:/<path>/PaxFinancialExamples/paxdk"
   ]
  },
  {
   "cell_type": "markdown",
   "metadata": {},
   "source": [
    "## Signing Up With Pax Financial\n",
    "\n",
    "1. In a web browser, navigate to the Pax Financial home page and follow the Log In link.\n",
    "2. Sign in with Google or your e-mail, according to the instructions."
   ]
  },
  {
   "cell_type": "markdown",
   "metadata": {},
   "source": [
    "## Finding your API key\n",
    "\n",
    "Once you have signed up and signed in, you are ready to locate your API key.\n",
    "\n",
    "1. In the top left corner of the screen that appears when you sign in, there is a hamburger icon (three stacked horizontal lines). Click this icon. A panel should slide out from the left side of the screen. You will see your API key.\n",
    "\n",
    "2. Copy the API key. Open the file `PaxFinancialExamples/.config` with an editor and replace the API key in the file with your API key. \n",
    "\n",
    "Once you have your API key entered into the `.config` file, you are ready to execute the first example of using the Pax Financial API."
   ]
  },
  {
   "cell_type": "markdown",
   "metadata": {},
   "source": [
    "## A First Example: Reading Financial Data"
   ]
  },
  {
   "cell_type": "markdown",
   "metadata": {},
   "source": [
    "In our first example of the use of the Pax Financial API we will read some historical price data and display it. "
   ]
  },
  {
   "cell_type": "markdown",
   "metadata": {},
   "source": [
    "We import the Pax Development Kit and instantiate the Pax Financial API:"
   ]
  },
  {
   "cell_type": "code",
   "execution_count": 1,
   "metadata": {},
   "outputs": [
    {
     "name": "stdout",
     "output_type": "stream",
     "text": [
      "PaxFinancialAPI v4 loaded!\n"
     ]
    }
   ],
   "source": [
    "import paxdk\n",
    "\n",
    "import json\n",
    "with open(\"../.config\") as f:\n",
    "    data = json.load(f)\n",
    "api_key = data['api_key']\n",
    "    \n",
    "pq = paxdk.PaxFinancialAPI(url_version='dev',api_key=api_key)"
   ]
  },
  {
   "cell_type": "markdown",
   "metadata": {},
   "source": [
    "We use the Pax Financial API to read some historical hourly price data about the Bitcoin/US dollar exchange rate, and we display the hour bars we obtain. An hour bar corresponds to a one-hour period and contains the opening price, closing price, high price, and low price for that period.  We display the hour bars data as a Pandas dataframe."
   ]
  },
  {
   "cell_type": "code",
   "execution_count": 2,
   "metadata": {},
   "outputs": [
    {
     "data": {
      "text/html": [
       "<div>\n",
       "<style scoped>\n",
       "    .dataframe tbody tr th:only-of-type {\n",
       "        vertical-align: middle;\n",
       "    }\n",
       "\n",
       "    .dataframe tbody tr th {\n",
       "        vertical-align: top;\n",
       "    }\n",
       "\n",
       "    .dataframe thead th {\n",
       "        text-align: right;\n",
       "    }\n",
       "</style>\n",
       "<table border=\"1\" class=\"dataframe\">\n",
       "  <thead>\n",
       "    <tr style=\"text-align: right;\">\n",
       "      <th></th>\n",
       "      <th>DateTime</th>\n",
       "      <th>Ticker</th>\n",
       "      <th>OpenPrice</th>\n",
       "      <th>ClosePrice</th>\n",
       "      <th>HighPrice</th>\n",
       "      <th>LowPrice</th>\n",
       "    </tr>\n",
       "  </thead>\n",
       "  <tbody>\n",
       "    <tr>\n",
       "      <th>0</th>\n",
       "      <td>2020-04-01 10:00:00</td>\n",
       "      <td>BTCUSDT</td>\n",
       "      <td>6298.74</td>\n",
       "      <td>6295.03</td>\n",
       "      <td>6318.89</td>\n",
       "      <td>6288.02</td>\n",
       "    </tr>\n",
       "    <tr>\n",
       "      <th>1</th>\n",
       "      <td>2020-04-01 11:00:00</td>\n",
       "      <td>BTCUSDT</td>\n",
       "      <td>6295.03</td>\n",
       "      <td>6294.25</td>\n",
       "      <td>6301.76</td>\n",
       "      <td>6271.20</td>\n",
       "    </tr>\n",
       "    <tr>\n",
       "      <th>2</th>\n",
       "      <td>2020-04-01 12:00:00</td>\n",
       "      <td>BTCUSDT</td>\n",
       "      <td>6294.25</td>\n",
       "      <td>6217.51</td>\n",
       "      <td>6332.16</td>\n",
       "      <td>6215.66</td>\n",
       "    </tr>\n",
       "  </tbody>\n",
       "</table>\n",
       "</div>"
      ],
      "text/plain": [
       "             DateTime   Ticker  OpenPrice  ClosePrice  HighPrice  LowPrice\n",
       "0 2020-04-01 10:00:00  BTCUSDT    6298.74     6295.03    6318.89   6288.02\n",
       "1 2020-04-01 11:00:00  BTCUSDT    6295.03     6294.25    6301.76   6271.20\n",
       "2 2020-04-01 12:00:00  BTCUSDT    6294.25     6217.51    6332.16   6215.66"
      ]
     },
     "execution_count": 2,
     "metadata": {},
     "output_type": "execute_result"
    }
   ],
   "source": [
    "import pandas as pd\n",
    "import datetime\n",
    "\n",
    "bars = pq.get_historical_hour({'api_key':api_key,\n",
    "                                'time_in':datetime.datetime(2020,4,1,10),\n",
    "                                'time_end':datetime.datetime(2020,4,1,12),\n",
    "                                'Ticker':'BTCUSDT',\n",
    "                                                             },remote=True)\n",
    "df=pd.DataFrame(bars)\n",
    "df[['DateTime','Ticker','OpenPrice','ClosePrice','HighPrice','LowPrice']]"
   ]
  }
 ],
 "metadata": {
  "hide_input": false,
  "kernelspec": {
   "display_name": "Python 3",
   "language": "python",
   "name": "python3"
  },
  "language_info": {
   "codemirror_mode": {
    "name": "ipython",
    "version": 3
   },
   "file_extension": ".py",
   "mimetype": "text/x-python",
   "name": "python",
   "nbconvert_exporter": "python",
   "pygments_lexer": "ipython3",
   "version": "3.7.3"
  }
 },
 "nbformat": 4,
 "nbformat_minor": 2
}
